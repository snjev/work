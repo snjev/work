{
 "cells": [
  {
   "cell_type": "code",
   "execution_count": 18,
   "metadata": {},
   "outputs": [],
   "source": [
    "import numpy as np\n",
    "import pandas as pd\n",
    "import seaborn as sb\n",
    "dataset = pd.read_csv('mmreg.csv',delimiter=',')\n",
    "del dataset['locus_of_control']\n",
    "del dataset['female']\n",
    "dataset = dataset.T\n",
    "dataset = dataset.dropna(how='any',axis=0)\n",
    "cov_mat = np.cov(dataset)\n",
    "\n",
    "\n",
    "s_xx = cov_mat[0:2,0:2]\n",
    "s_xy = cov_mat[2:,0:2]\n",
    "s_yx = s_xy.T\n",
    "s_yy = cov_mat[2:,2:]"
   ]
  },
  {
   "cell_type": "code",
   "execution_count": 19,
   "metadata": {},
   "outputs": [
    {
     "data": {
      "text/plain": [
       "array([[102.07026375,  61.76924321,  64.61061119,  67.73028436],\n",
       "       [ 61.76924321,  94.60392652,  57.93453406,  53.73156316],\n",
       "       [ 64.61061119,  57.93453406,  88.6372611 ,  59.3544207 ],\n",
       "       [ 67.73028436,  53.73156316,  59.3544207 ,  94.2099054 ]])"
      ]
     },
     "execution_count": 19,
     "metadata": {},
     "output_type": "execute_result"
    }
   ],
   "source": [
    "s_yy"
   ]
  },
  {
   "cell_type": "code",
   "execution_count": null,
   "metadata": {},
   "outputs": [],
   "source": []
  },
  {
   "cell_type": "code",
   "execution_count": null,
   "metadata": {},
   "outputs": [],
   "source": []
  },
  {
   "cell_type": "code",
   "execution_count": null,
   "metadata": {},
   "outputs": [],
   "source": []
  },
  {
   "cell_type": "code",
   "execution_count": null,
   "metadata": {},
   "outputs": [],
   "source": []
  },
  {
   "cell_type": "code",
   "execution_count": 16,
   "metadata": {},
   "outputs": [
    {
     "data": {
      "text/plain": [
       "(4, 2)"
      ]
     },
     "execution_count": 16,
     "metadata": {},
     "output_type": "execute_result"
    }
   ],
   "source": [
    "s_xy.shape"
   ]
  },
  {
   "cell_type": "code",
   "execution_count": 17,
   "metadata": {},
   "outputs": [
    {
     "data": {
      "text/plain": [
       "array([[0.43234156, 0.72925556],\n",
       "       [0.13345867, 0.84754688],\n",
       "       [0.35600743, 0.62925125],\n",
       "       [0.47815888, 0.3847852 ]])"
      ]
     },
     "execution_count": 17,
     "metadata": {},
     "output_type": "execute_result"
    }
   ],
   "source": [
    "s_xy"
   ]
  },
  {
   "cell_type": "code",
   "execution_count": null,
   "metadata": {},
   "outputs": [],
   "source": []
  },
  {
   "cell_type": "code",
   "execution_count": null,
   "metadata": {},
   "outputs": [],
   "source": []
  },
  {
   "cell_type": "code",
   "execution_count": null,
   "metadata": {},
   "outputs": [],
   "source": []
  },
  {
   "cell_type": "code",
   "execution_count": null,
   "metadata": {},
   "outputs": [],
   "source": []
  },
  {
   "cell_type": "code",
   "execution_count": null,
   "metadata": {},
   "outputs": [],
   "source": []
  },
  {
   "cell_type": "code",
   "execution_count": null,
   "metadata": {},
   "outputs": [],
   "source": []
  },
  {
   "cell_type": "code",
   "execution_count": null,
   "metadata": {},
   "outputs": [],
   "source": []
  },
  {
   "cell_type": "code",
   "execution_count": null,
   "metadata": {},
   "outputs": [],
   "source": []
  },
  {
   "cell_type": "code",
   "execution_count": 4,
   "metadata": {},
   "outputs": [
    {
     "data": {
      "text/html": [
       "<div>\n",
       "<style scoped>\n",
       "    .dataframe tbody tr th:only-of-type {\n",
       "        vertical-align: middle;\n",
       "    }\n",
       "\n",
       "    .dataframe tbody tr th {\n",
       "        vertical-align: top;\n",
       "    }\n",
       "\n",
       "    .dataframe thead th {\n",
       "        text-align: right;\n",
       "    }\n",
       "</style>\n",
       "<table border=\"1\" class=\"dataframe\">\n",
       "  <thead>\n",
       "    <tr style=\"text-align: right;\">\n",
       "      <th></th>\n",
       "      <th>0</th>\n",
       "      <th>1</th>\n",
       "      <th>2</th>\n",
       "      <th>3</th>\n",
       "      <th>4</th>\n",
       "      <th>5</th>\n",
       "      <th>6</th>\n",
       "      <th>7</th>\n",
       "      <th>8</th>\n",
       "      <th>9</th>\n",
       "      <th>...</th>\n",
       "      <th>590</th>\n",
       "      <th>591</th>\n",
       "      <th>592</th>\n",
       "      <th>593</th>\n",
       "      <th>594</th>\n",
       "      <th>595</th>\n",
       "      <th>596</th>\n",
       "      <th>597</th>\n",
       "      <th>598</th>\n",
       "      <th>599</th>\n",
       "    </tr>\n",
       "  </thead>\n",
       "  <tbody>\n",
       "    <tr>\n",
       "      <th>self_concept</th>\n",
       "      <td>-0.24</td>\n",
       "      <td>-0.47</td>\n",
       "      <td>0.59</td>\n",
       "      <td>0.28</td>\n",
       "      <td>0.03</td>\n",
       "      <td>0.90</td>\n",
       "      <td>0.03</td>\n",
       "      <td>-0.59</td>\n",
       "      <td>0.03</td>\n",
       "      <td>0.03</td>\n",
       "      <td>...</td>\n",
       "      <td>0.03</td>\n",
       "      <td>0.56</td>\n",
       "      <td>0.03</td>\n",
       "      <td>0.03</td>\n",
       "      <td>0.03</td>\n",
       "      <td>-0.3</td>\n",
       "      <td>0.03</td>\n",
       "      <td>0.03</td>\n",
       "      <td>0.03</td>\n",
       "      <td>0.03</td>\n",
       "    </tr>\n",
       "    <tr>\n",
       "      <th>motivation</th>\n",
       "      <td>1.00</td>\n",
       "      <td>0.67</td>\n",
       "      <td>0.67</td>\n",
       "      <td>0.67</td>\n",
       "      <td>1.00</td>\n",
       "      <td>0.33</td>\n",
       "      <td>0.67</td>\n",
       "      <td>0.67</td>\n",
       "      <td>1.00</td>\n",
       "      <td>0.67</td>\n",
       "      <td>...</td>\n",
       "      <td>1.00</td>\n",
       "      <td>0.67</td>\n",
       "      <td>0.33</td>\n",
       "      <td>0.33</td>\n",
       "      <td>1.00</td>\n",
       "      <td>1.0</td>\n",
       "      <td>1.00</td>\n",
       "      <td>1.00</td>\n",
       "      <td>1.00</td>\n",
       "      <td>0.67</td>\n",
       "    </tr>\n",
       "    <tr>\n",
       "      <th>read</th>\n",
       "      <td>54.80</td>\n",
       "      <td>62.70</td>\n",
       "      <td>60.60</td>\n",
       "      <td>62.70</td>\n",
       "      <td>41.60</td>\n",
       "      <td>62.70</td>\n",
       "      <td>41.60</td>\n",
       "      <td>44.20</td>\n",
       "      <td>62.70</td>\n",
       "      <td>62.70</td>\n",
       "      <td>...</td>\n",
       "      <td>54.80</td>\n",
       "      <td>65.40</td>\n",
       "      <td>44.20</td>\n",
       "      <td>62.70</td>\n",
       "      <td>52.10</td>\n",
       "      <td>60.1</td>\n",
       "      <td>65.40</td>\n",
       "      <td>65.40</td>\n",
       "      <td>54.80</td>\n",
       "      <td>49.50</td>\n",
       "    </tr>\n",
       "    <tr>\n",
       "      <th>write</th>\n",
       "      <td>64.50</td>\n",
       "      <td>43.70</td>\n",
       "      <td>56.70</td>\n",
       "      <td>56.70</td>\n",
       "      <td>46.30</td>\n",
       "      <td>64.50</td>\n",
       "      <td>39.10</td>\n",
       "      <td>39.10</td>\n",
       "      <td>51.50</td>\n",
       "      <td>64.50</td>\n",
       "      <td>...</td>\n",
       "      <td>59.30</td>\n",
       "      <td>67.10</td>\n",
       "      <td>54.10</td>\n",
       "      <td>54.10</td>\n",
       "      <td>56.70</td>\n",
       "      <td>67.1</td>\n",
       "      <td>56.70</td>\n",
       "      <td>51.50</td>\n",
       "      <td>54.10</td>\n",
       "      <td>51.50</td>\n",
       "    </tr>\n",
       "    <tr>\n",
       "      <th>math</th>\n",
       "      <td>44.50</td>\n",
       "      <td>44.70</td>\n",
       "      <td>70.50</td>\n",
       "      <td>54.70</td>\n",
       "      <td>38.40</td>\n",
       "      <td>61.40</td>\n",
       "      <td>56.30</td>\n",
       "      <td>46.30</td>\n",
       "      <td>54.40</td>\n",
       "      <td>38.30</td>\n",
       "      <td>...</td>\n",
       "      <td>46.20</td>\n",
       "      <td>63.00</td>\n",
       "      <td>40.30</td>\n",
       "      <td>64.70</td>\n",
       "      <td>62.80</td>\n",
       "      <td>52.4</td>\n",
       "      <td>65.40</td>\n",
       "      <td>61.40</td>\n",
       "      <td>66.40</td>\n",
       "      <td>55.50</td>\n",
       "    </tr>\n",
       "    <tr>\n",
       "      <th>science</th>\n",
       "      <td>52.60</td>\n",
       "      <td>52.60</td>\n",
       "      <td>58.00</td>\n",
       "      <td>58.00</td>\n",
       "      <td>36.30</td>\n",
       "      <td>58.00</td>\n",
       "      <td>45.00</td>\n",
       "      <td>36.30</td>\n",
       "      <td>49.80</td>\n",
       "      <td>55.80</td>\n",
       "      <td>...</td>\n",
       "      <td>47.10</td>\n",
       "      <td>66.10</td>\n",
       "      <td>52.60</td>\n",
       "      <td>58.00</td>\n",
       "      <td>47.10</td>\n",
       "      <td>55.3</td>\n",
       "      <td>58.00</td>\n",
       "      <td>60.70</td>\n",
       "      <td>41.70</td>\n",
       "      <td>44.40</td>\n",
       "    </tr>\n",
       "  </tbody>\n",
       "</table>\n",
       "<p>6 rows × 600 columns</p>\n",
       "</div>"
      ],
      "text/plain": [
       "                0      1      2      3      4      5      6      7      8    \\\n",
       "self_concept  -0.24  -0.47   0.59   0.28   0.03   0.90   0.03  -0.59   0.03   \n",
       "motivation     1.00   0.67   0.67   0.67   1.00   0.33   0.67   0.67   1.00   \n",
       "read          54.80  62.70  60.60  62.70  41.60  62.70  41.60  44.20  62.70   \n",
       "write         64.50  43.70  56.70  56.70  46.30  64.50  39.10  39.10  51.50   \n",
       "math          44.50  44.70  70.50  54.70  38.40  61.40  56.30  46.30  54.40   \n",
       "science       52.60  52.60  58.00  58.00  36.30  58.00  45.00  36.30  49.80   \n",
       "\n",
       "                9    ...      590    591    592    593    594   595    596  \\\n",
       "self_concept   0.03  ...     0.03   0.56   0.03   0.03   0.03  -0.3   0.03   \n",
       "motivation     0.67  ...     1.00   0.67   0.33   0.33   1.00   1.0   1.00   \n",
       "read          62.70  ...    54.80  65.40  44.20  62.70  52.10  60.1  65.40   \n",
       "write         64.50  ...    59.30  67.10  54.10  54.10  56.70  67.1  56.70   \n",
       "math          38.30  ...    46.20  63.00  40.30  64.70  62.80  52.4  65.40   \n",
       "science       55.80  ...    47.10  66.10  52.60  58.00  47.10  55.3  58.00   \n",
       "\n",
       "                597    598    599  \n",
       "self_concept   0.03   0.03   0.03  \n",
       "motivation     1.00   1.00   0.67  \n",
       "read          65.40  54.80  49.50  \n",
       "write         51.50  54.10  51.50  \n",
       "math          61.40  66.40  55.50  \n",
       "science       60.70  41.70  44.40  \n",
       "\n",
       "[6 rows x 600 columns]"
      ]
     },
     "execution_count": 4,
     "metadata": {},
     "output_type": "execute_result"
    }
   ],
   "source": [
    "dataset"
   ]
  },
  {
   "cell_type": "code",
   "execution_count": 7,
   "metadata": {},
   "outputs": [
    {
     "data": {
      "text/plain": [
       "array([[4.97747906e-01, 6.97763634e-02, 4.32341555e-01, 1.33458667e-01,\n",
       "        3.56007429e-01, 4.78158876e-01],\n",
       "       [6.97763634e-02, 1.17463411e-01, 7.29255565e-01, 8.47546884e-01,\n",
       "        6.29251252e-01, 3.84785198e-01],\n",
       "       [4.32341555e-01, 7.29255565e-01, 1.02070264e+02, 6.17692432e+01,\n",
       "        6.46106112e+01, 6.77302844e+01],\n",
       "       [1.33458667e-01, 8.47546884e-01, 6.17692432e+01, 9.46039265e+01,\n",
       "        5.79345341e+01, 5.37315632e+01],\n",
       "       [3.56007429e-01, 6.29251252e-01, 6.46106112e+01, 5.79345341e+01,\n",
       "        8.86372611e+01, 5.93544207e+01],\n",
       "       [4.78158876e-01, 3.84785198e-01, 6.77302844e+01, 5.37315632e+01,\n",
       "        5.93544207e+01, 9.42099054e+01]])"
      ]
     },
     "execution_count": 7,
     "metadata": {},
     "output_type": "execute_result"
    }
   ],
   "source": [
    "cov_mat"
   ]
  },
  {
   "cell_type": "code",
   "execution_count": 1,
   "metadata": {},
   "outputs": [
    {
     "name": "stdout",
     "output_type": "stream",
     "text": [
      "\n",
      "The following command must be run outside of the IPython shell:\n",
      "\n",
      "    $ pip install librosa\n",
      "\n",
      "The Python package manager (pip) can only be used from outside of IPython.\n",
      "Please reissue the `pip` command in a separate terminal or command prompt.\n",
      "\n",
      "See the Python documentation for more information on how to install packages:\n",
      "\n",
      "    https://docs.python.org/3/installing/\n"
     ]
    }
   ],
   "source": []
  },
  {
   "cell_type": "code",
   "execution_count": null,
   "metadata": {},
   "outputs": [],
   "source": []
  }
 ],
 "metadata": {
  "kernelspec": {
   "display_name": "Python 3",
   "language": "python",
   "name": "python3"
  },
  "language_info": {
   "codemirror_mode": {
    "name": "ipython",
    "version": 3
   },
   "file_extension": ".py",
   "mimetype": "text/x-python",
   "name": "python",
   "nbconvert_exporter": "python",
   "pygments_lexer": "ipython3",
   "version": "3.7.1"
  }
 },
 "nbformat": 4,
 "nbformat_minor": 2
}
